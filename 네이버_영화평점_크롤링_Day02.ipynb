{
  "nbformat": 4,
  "nbformat_minor": 0,
  "metadata": {
    "colab": {
      "name": "네이버 영화평점 크롤링  Day02.ipynb",
      "provenance": [],
      "collapsed_sections": [],
      "authorship_tag": "ABX9TyNdjLg+bIaox9OnecRZbQWq",
      "include_colab_link": true
    },
    "kernelspec": {
      "name": "python3",
      "display_name": "Python 3"
    },
    "language_info": {
      "name": "python"
    }
  },
  "cells": [
    {
      "cell_type": "markdown",
      "metadata": {
        "id": "view-in-github",
        "colab_type": "text"
      },
      "source": [
        "<a href=\"https://colab.research.google.com/github/lsy0804/crawlingDay02/blob/main/%EB%84%A4%EC%9D%B4%EB%B2%84_%EC%98%81%ED%99%94%ED%8F%89%EC%A0%90_%ED%81%AC%EB%A1%A4%EB%A7%81_Day02.ipynb\" target=\"_parent\"><img src=\"https://colab.research.google.com/assets/colab-badge.svg\" alt=\"Open In Colab\"/></a>"
      ]
    },
    {
      "cell_type": "code",
      "execution_count": 1,
      "metadata": {
        "id": "Su9V6lzfJ8Bo"
      },
      "outputs": [],
      "source": [
        "import requests #인터넷 연결 라이브러리 \n",
        "from bs4 import BeautifulSoup as bs #데이터 분석 쉽게 처리 \n",
        "import pandas as pd # 데이터 분석 라이브러리 \n"
      ]
    },
    {
      "cell_type": "code",
      "source": [
        "url = \" https://movie.naver.com/movie/sdb/rank/rmovie.naver?sel=cur&date=20220112 \"\n",
        "html = requests.get(url)\n",
        "soup = bs(html.text)\n"
      ],
      "metadata": {
        "id": "koJadRuGLDoV"
      },
      "execution_count": 2,
      "outputs": []
    },
    {
      "cell_type": "code",
      "source": [
        "soup.select(\"div.tit5 > a\") # 앞에서와 다르게 안쪽에서 파고드는 ~, class명으로 찾는게 가장 편리한 듯 "
      ],
      "metadata": {
        "colab": {
          "base_uri": "https://localhost:8080/"
        },
        "id": "Q9OdLTCxLWuQ",
        "outputId": "6a834945-5337-4b01-ed60-822a6649004e"
      },
      "execution_count": 12,
      "outputs": [
        {
          "output_type": "execute_result",
          "data": {
            "text/plain": [
              "[<a href=\"/movie/bi/mi/basic.naver?code=187320\" title=\"씽2게더\">씽2게더</a>,\n",
              " <a href=\"/movie/bi/mi/basic.naver?code=19031\" title=\"러브레터\">러브레터</a>,\n",
              " <a href=\"/movie/bi/mi/basic.naver?code=208077\" title=\"스파이더맨: 노 웨이 홈\">스파이더맨: 노 웨이 홈</a>,\n",
              " <a href=\"/movie/bi/mi/basic.naver?code=27350\" title=\"기쿠지로의 여름\">기쿠지로의 여름</a>,\n",
              " <a href=\"/movie/bi/mi/basic.naver?code=32588\" title=\"아멜리에\">아멜리에</a>,\n",
              " <a href=\"/movie/bi/mi/basic.naver?code=31607\" title=\"고양이를 부탁해\">고양이를 부탁해</a>,\n",
              " <a href=\"/movie/bi/mi/basic.naver?code=205623\" title=\"드라이브 마이 카\">드라이브 마이 카</a>,\n",
              " <a href=\"/movie/bi/mi/basic.naver?code=210282\" title=\"엔칸토: 마법의 세계\">엔칸토: 마법의 세계</a>,\n",
              " <a href=\"/movie/bi/mi/basic.naver?code=196809\" title=\"연애 빠진 로맨스\">연애 빠진 로맨스</a>,\n",
              " <a href=\"/movie/bi/mi/basic.naver?code=159893\" title=\"킹스맨: 퍼스트 에이전트\">킹스맨: 퍼스트 에이전트</a>,\n",
              " <a href=\"/movie/bi/mi/basic.naver?code=187312\" title=\"프렌치 디스패치\">프렌치 디스패치</a>,\n",
              " <a href=\"/movie/bi/mi/basic.naver?code=75237\" title=\"아웃레이지\">아웃레이지</a>,\n",
              " <a href=\"/movie/bi/mi/basic.naver?code=190400\" title=\"경관의 피\">경관의 피</a>,\n",
              " <a href=\"/movie/bi/mi/basic.naver?code=182362\" title=\"유체이탈자\">유체이탈자</a>,\n",
              " <a href=\"/movie/bi/mi/basic.naver?code=204649\" title=\"해피 뉴 이어\">해피 뉴 이어</a>,\n",
              " <a href=\"/movie/bi/mi/basic.naver?code=191600\" title=\"매트릭스: 리저렉션\">매트릭스: 리저렉션</a>]"
            ]
          },
          "metadata": {},
          "execution_count": 12
        }
      ]
    },
    {
      "cell_type": "code",
      "source": [
        "title_n = soup.select(\"div.tit5 > a\")\n",
        "len(title_n)"
      ],
      "metadata": {
        "colab": {
          "base_uri": "https://localhost:8080/"
        },
        "id": "-XPeTd6RM2FF",
        "outputId": "0204d4fe-c715-4a93-93ae-513028ebd873"
      },
      "execution_count": 5,
      "outputs": [
        {
          "output_type": "execute_result",
          "data": {
            "text/plain": [
              "16"
            ]
          },
          "metadata": {},
          "execution_count": 5
        }
      ]
    },
    {
      "cell_type": "code",
      "source": [
        "title_n[0].text"
      ],
      "metadata": {
        "colab": {
          "base_uri": "https://localhost:8080/",
          "height": 35
        },
        "id": "MQJhX1-KNFJ5",
        "outputId": "28785d71-011c-4527-d5ff-15fc5cc3813b"
      },
      "execution_count": 13,
      "outputs": [
        {
          "output_type": "execute_result",
          "data": {
            "application/vnd.google.colaboratory.intrinsic+json": {
              "type": "string"
            },
            "text/plain": [
              "'씽2게더'"
            ]
          },
          "metadata": {},
          "execution_count": 13
        }
      ]
    },
    {
      "cell_type": "code",
      "source": [
        "rating_n = soup.select(\"td.point\")\n",
        "len(rating_n)"
      ],
      "metadata": {
        "colab": {
          "base_uri": "https://localhost:8080/"
        },
        "id": "sKz5L3auNJDV",
        "outputId": "93619f00-f476-4b6e-9de9-fb4c77d3fdd6"
      },
      "execution_count": 9,
      "outputs": [
        {
          "output_type": "execute_result",
          "data": {
            "text/plain": [
              "16"
            ]
          },
          "metadata": {},
          "execution_count": 9
        }
      ]
    },
    {
      "cell_type": "code",
      "source": [
        "rating_n[0].text "
      ],
      "metadata": {
        "colab": {
          "base_uri": "https://localhost:8080/",
          "height": 35
        },
        "id": "juSnGtAiNvXv",
        "outputId": "0089069c-74b6-4b3a-817d-89cd5d137455"
      },
      "execution_count": 10,
      "outputs": [
        {
          "output_type": "execute_result",
          "data": {
            "application/vnd.google.colaboratory.intrinsic+json": {
              "type": "string"
            },
            "text/plain": [
              "'9.40'"
            ]
          },
          "metadata": {},
          "execution_count": 10
        }
      ]
    },
    {
      "cell_type": "code",
      "source": [
        "print(title_n[0].text)\n",
        "print(rating_n[0].text) "
      ],
      "metadata": {
        "colab": {
          "base_uri": "https://localhost:8080/"
        },
        "id": "i4WucARJN3CZ",
        "outputId": "2803bdf7-696c-4bb6-ca53-eeefbb740e8c"
      },
      "execution_count": 11,
      "outputs": [
        {
          "output_type": "stream",
          "name": "stdout",
          "text": [
            "씽2게더\n",
            "9.40\n"
          ]
        }
      ]
    },
    {
      "cell_type": "code",
      "source": [
        "movies = soup.select(\"div.tit5 > a\")\n"
      ],
      "metadata": {
        "id": "Tyee1hz-OGNO"
      },
      "execution_count": null,
      "outputs": []
    },
    {
      "cell_type": "code",
      "source": [
        "movie_list = []\n",
        "rank = 1 \n",
        "\"\"\"for i in range (16):\n",
        "  print (title_n[i].text)\n",
        "  print (rating_n[i].text)\n",
        "  movie_list.append(\"rank\",+i)\n",
        "  movie_list.append(title_n[i].text)\n",
        "  movie list.append(rating_n[i].text)\n",
        "  \"\"\"\n",
        "\n",
        "for each in range(len(rating_n)):\n",
        "  title = title_n[each].text\n",
        "  rating = rating_n[each].text\n",
        "  movie_list.append([rank, title, rating])\n",
        "  rank += 1\n",
        "df = pd.DataFrame(movie_list, columns = [\" 순위\", \"제목\", \"평점\"])\n",
        "df"
      ],
      "metadata": {
        "colab": {
          "base_uri": "https://localhost:8080/",
          "height": 551
        },
        "id": "ZOX2mhjKOff1",
        "outputId": "a4f41265-227f-481b-f39e-c1601beee3e6"
      },
      "execution_count": 17,
      "outputs": [
        {
          "output_type": "execute_result",
          "data": {
            "text/html": [
              "\n",
              "  <div id=\"df-3136686c-0e38-43f5-842e-eb244225cf00\">\n",
              "    <div class=\"colab-df-container\">\n",
              "      <div>\n",
              "<style scoped>\n",
              "    .dataframe tbody tr th:only-of-type {\n",
              "        vertical-align: middle;\n",
              "    }\n",
              "\n",
              "    .dataframe tbody tr th {\n",
              "        vertical-align: top;\n",
              "    }\n",
              "\n",
              "    .dataframe thead th {\n",
              "        text-align: right;\n",
              "    }\n",
              "</style>\n",
              "<table border=\"1\" class=\"dataframe\">\n",
              "  <thead>\n",
              "    <tr style=\"text-align: right;\">\n",
              "      <th></th>\n",
              "      <th>순위</th>\n",
              "      <th>제목</th>\n",
              "      <th>평점</th>\n",
              "    </tr>\n",
              "  </thead>\n",
              "  <tbody>\n",
              "    <tr>\n",
              "      <th>0</th>\n",
              "      <td>1</td>\n",
              "      <td>씽2게더</td>\n",
              "      <td>9.40</td>\n",
              "    </tr>\n",
              "    <tr>\n",
              "      <th>1</th>\n",
              "      <td>2</td>\n",
              "      <td>러브레터</td>\n",
              "      <td>9.12</td>\n",
              "    </tr>\n",
              "    <tr>\n",
              "      <th>2</th>\n",
              "      <td>3</td>\n",
              "      <td>스파이더맨: 노 웨이 홈</td>\n",
              "      <td>8.92</td>\n",
              "    </tr>\n",
              "    <tr>\n",
              "      <th>3</th>\n",
              "      <td>4</td>\n",
              "      <td>기쿠지로의 여름</td>\n",
              "      <td>8.92</td>\n",
              "    </tr>\n",
              "    <tr>\n",
              "      <th>4</th>\n",
              "      <td>5</td>\n",
              "      <td>아멜리에</td>\n",
              "      <td>8.81</td>\n",
              "    </tr>\n",
              "    <tr>\n",
              "      <th>5</th>\n",
              "      <td>6</td>\n",
              "      <td>고양이를 부탁해</td>\n",
              "      <td>8.81</td>\n",
              "    </tr>\n",
              "    <tr>\n",
              "      <th>6</th>\n",
              "      <td>7</td>\n",
              "      <td>드라이브 마이 카</td>\n",
              "      <td>8.65</td>\n",
              "    </tr>\n",
              "    <tr>\n",
              "      <th>7</th>\n",
              "      <td>8</td>\n",
              "      <td>엔칸토: 마법의 세계</td>\n",
              "      <td>8.30</td>\n",
              "    </tr>\n",
              "    <tr>\n",
              "      <th>8</th>\n",
              "      <td>9</td>\n",
              "      <td>연애 빠진 로맨스</td>\n",
              "      <td>8.29</td>\n",
              "    </tr>\n",
              "    <tr>\n",
              "      <th>9</th>\n",
              "      <td>10</td>\n",
              "      <td>킹스맨: 퍼스트 에이전트</td>\n",
              "      <td>8.11</td>\n",
              "    </tr>\n",
              "    <tr>\n",
              "      <th>10</th>\n",
              "      <td>11</td>\n",
              "      <td>프렌치 디스패치</td>\n",
              "      <td>8.00</td>\n",
              "    </tr>\n",
              "    <tr>\n",
              "      <th>11</th>\n",
              "      <td>12</td>\n",
              "      <td>아웃레이지</td>\n",
              "      <td>7.84</td>\n",
              "    </tr>\n",
              "    <tr>\n",
              "      <th>12</th>\n",
              "      <td>13</td>\n",
              "      <td>경관의 피</td>\n",
              "      <td>7.70</td>\n",
              "    </tr>\n",
              "    <tr>\n",
              "      <th>13</th>\n",
              "      <td>14</td>\n",
              "      <td>유체이탈자</td>\n",
              "      <td>7.56</td>\n",
              "    </tr>\n",
              "    <tr>\n",
              "      <th>14</th>\n",
              "      <td>15</td>\n",
              "      <td>해피 뉴 이어</td>\n",
              "      <td>7.07</td>\n",
              "    </tr>\n",
              "    <tr>\n",
              "      <th>15</th>\n",
              "      <td>16</td>\n",
              "      <td>매트릭스: 리저렉션</td>\n",
              "      <td>5.51</td>\n",
              "    </tr>\n",
              "  </tbody>\n",
              "</table>\n",
              "</div>\n",
              "      <button class=\"colab-df-convert\" onclick=\"convertToInteractive('df-3136686c-0e38-43f5-842e-eb244225cf00')\"\n",
              "              title=\"Convert this dataframe to an interactive table.\"\n",
              "              style=\"display:none;\">\n",
              "        \n",
              "  <svg xmlns=\"http://www.w3.org/2000/svg\" height=\"24px\"viewBox=\"0 0 24 24\"\n",
              "       width=\"24px\">\n",
              "    <path d=\"M0 0h24v24H0V0z\" fill=\"none\"/>\n",
              "    <path d=\"M18.56 5.44l.94 2.06.94-2.06 2.06-.94-2.06-.94-.94-2.06-.94 2.06-2.06.94zm-11 1L8.5 8.5l.94-2.06 2.06-.94-2.06-.94L8.5 2.5l-.94 2.06-2.06.94zm10 10l.94 2.06.94-2.06 2.06-.94-2.06-.94-.94-2.06-.94 2.06-2.06.94z\"/><path d=\"M17.41 7.96l-1.37-1.37c-.4-.4-.92-.59-1.43-.59-.52 0-1.04.2-1.43.59L10.3 9.45l-7.72 7.72c-.78.78-.78 2.05 0 2.83L4 21.41c.39.39.9.59 1.41.59.51 0 1.02-.2 1.41-.59l7.78-7.78 2.81-2.81c.8-.78.8-2.07 0-2.86zM5.41 20L4 18.59l7.72-7.72 1.47 1.35L5.41 20z\"/>\n",
              "  </svg>\n",
              "      </button>\n",
              "      \n",
              "  <style>\n",
              "    .colab-df-container {\n",
              "      display:flex;\n",
              "      flex-wrap:wrap;\n",
              "      gap: 12px;\n",
              "    }\n",
              "\n",
              "    .colab-df-convert {\n",
              "      background-color: #E8F0FE;\n",
              "      border: none;\n",
              "      border-radius: 50%;\n",
              "      cursor: pointer;\n",
              "      display: none;\n",
              "      fill: #1967D2;\n",
              "      height: 32px;\n",
              "      padding: 0 0 0 0;\n",
              "      width: 32px;\n",
              "    }\n",
              "\n",
              "    .colab-df-convert:hover {\n",
              "      background-color: #E2EBFA;\n",
              "      box-shadow: 0px 1px 2px rgba(60, 64, 67, 0.3), 0px 1px 3px 1px rgba(60, 64, 67, 0.15);\n",
              "      fill: #174EA6;\n",
              "    }\n",
              "\n",
              "    [theme=dark] .colab-df-convert {\n",
              "      background-color: #3B4455;\n",
              "      fill: #D2E3FC;\n",
              "    }\n",
              "\n",
              "    [theme=dark] .colab-df-convert:hover {\n",
              "      background-color: #434B5C;\n",
              "      box-shadow: 0px 1px 3px 1px rgba(0, 0, 0, 0.15);\n",
              "      filter: drop-shadow(0px 1px 2px rgba(0, 0, 0, 0.3));\n",
              "      fill: #FFFFFF;\n",
              "    }\n",
              "  </style>\n",
              "\n",
              "      <script>\n",
              "        const buttonEl =\n",
              "          document.querySelector('#df-3136686c-0e38-43f5-842e-eb244225cf00 button.colab-df-convert');\n",
              "        buttonEl.style.display =\n",
              "          google.colab.kernel.accessAllowed ? 'block' : 'none';\n",
              "\n",
              "        async function convertToInteractive(key) {\n",
              "          const element = document.querySelector('#df-3136686c-0e38-43f5-842e-eb244225cf00');\n",
              "          const dataTable =\n",
              "            await google.colab.kernel.invokeFunction('convertToInteractive',\n",
              "                                                     [key], {});\n",
              "          if (!dataTable) return;\n",
              "\n",
              "          const docLinkHtml = 'Like what you see? Visit the ' +\n",
              "            '<a target=\"_blank\" href=https://colab.research.google.com/notebooks/data_table.ipynb>data table notebook</a>'\n",
              "            + ' to learn more about interactive tables.';\n",
              "          element.innerHTML = '';\n",
              "          dataTable['output_type'] = 'display_data';\n",
              "          await google.colab.output.renderOutput(dataTable, element);\n",
              "          const docLink = document.createElement('div');\n",
              "          docLink.innerHTML = docLinkHtml;\n",
              "          element.appendChild(docLink);\n",
              "        }\n",
              "      </script>\n",
              "    </div>\n",
              "  </div>\n",
              "  "
            ],
            "text/plain": [
              "     순위             제목    평점\n",
              "0     1           씽2게더  9.40\n",
              "1     2           러브레터  9.12\n",
              "2     3  스파이더맨: 노 웨이 홈  8.92\n",
              "3     4       기쿠지로의 여름  8.92\n",
              "4     5           아멜리에  8.81\n",
              "5     6       고양이를 부탁해  8.81\n",
              "6     7      드라이브 마이 카  8.65\n",
              "7     8    엔칸토: 마법의 세계  8.30\n",
              "8     9      연애 빠진 로맨스  8.29\n",
              "9    10  킹스맨: 퍼스트 에이전트  8.11\n",
              "10   11       프렌치 디스패치  8.00\n",
              "11   12          아웃레이지  7.84\n",
              "12   13          경관의 피  7.70\n",
              "13   14          유체이탈자  7.56\n",
              "14   15        해피 뉴 이어  7.07\n",
              "15   16     매트릭스: 리저렉션  5.51"
            ]
          },
          "metadata": {},
          "execution_count": 17
        }
      ]
    },
    {
      "cell_type": "code",
      "source": [
        ""
      ],
      "metadata": {
        "id": "208eCBm1OgJz"
      },
      "execution_count": null,
      "outputs": []
    }
  ]
}